{
 "cells": [
  {
   "cell_type": "code",
   "execution_count": 105,
   "id": "26651e3e",
   "metadata": {},
   "outputs": [
    {
     "name": "stdout",
     "output_type": "stream",
     "text": [
      "      region    category       parameter  mode powertrain  year      unit  \\\n",
      "0  Australia  Historical  EV stock share  Cars         EV  2011   percent   \n",
      "1  Australia  Historical  EV sales share  Cars         EV  2011   percent   \n",
      "2  Australia  Historical        EV sales  Cars        BEV  2011  Vehicles   \n",
      "3  Australia  Historical        EV stock  Cars        BEV  2011  Vehicles   \n",
      "4  Australia  Historical        EV stock  Cars        BEV  2012  Vehicles   \n",
      "\n",
      "       value  \n",
      "0    0.00039  \n",
      "1    0.00650  \n",
      "2   49.00000  \n",
      "3   49.00000  \n",
      "4  220.00000  \n"
     ]
    }
   ],
   "source": [
    "import pandas as pd\n",
    "import numpy as np\n",
    "import xgboost as xgb\n",
    "import matplotlib.pyplot as plt\n",
    "from sklearn.linear_model import LinearRegression\n",
    "from sklearn.metrics import mean_absolute_error\n",
    "from sklearn.metrics import mean_squared_error\n",
    "from sklearn.metrics import r2_score\n",
    "#Importing the dataset\n",
    "data=pd.read_csv(\"IEA Global EV Data 2024.csv\")\n",
    "\n",
    "print(data.head())"
   ]
  },
  {
   "cell_type": "code",
   "execution_count": 106,
   "id": "be54e786",
   "metadata": {},
   "outputs": [
    {
     "name": "stdout",
     "output_type": "stream",
     "text": [
      "          region    category parameter   mode powertrain  year      unit  \\\n",
      "10     Australia  Historical  EV sales   Cars       PHEV  2013  Vehicles   \n",
      "14     Australia  Historical  EV sales   Cars        BEV  2013  Vehicles   \n",
      "17     Australia  Historical  EV sales   Cars        BEV  2014  Vehicles   \n",
      "21     Australia  Historical  EV sales   Cars       PHEV  2014  Vehicles   \n",
      "22     Australia  Historical  EV sales   Cars       PHEV  2015  Vehicles   \n",
      "...          ...         ...       ...    ...        ...   ...       ...   \n",
      "12356      World  Historical  EV sales   Cars       FCEV  2023  Vehicles   \n",
      "12357      World  Historical  EV sales   Vans       PHEV  2023  Vehicles   \n",
      "12360      World  Historical  EV sales   Vans       FCEV  2023  Vehicles   \n",
      "12362      World  Historical  EV sales   Vans        BEV  2023  Vehicles   \n",
      "12364      World  Historical  EV sales  Buses       PHEV  2023  Vehicles   \n",
      "\n",
      "          value  \n",
      "10        100.0  \n",
      "14        190.0  \n",
      "17        370.0  \n",
      "21        950.0  \n",
      "22       1000.0  \n",
      "...         ...  \n",
      "12356    8900.0  \n",
      "12357    6600.0  \n",
      "12360    2000.0  \n",
      "12362  460000.0  \n",
      "12364    1400.0  \n",
      "\n",
      "[2243 rows x 8 columns]\n"
     ]
    }
   ],
   "source": [
    "year_to_delete=[2010,2011,2012,2025,2030]\n",
    "df=data.loc[~data['year'].isin(year_to_delete)]\n",
    "\n",
    "#Deleting parameters which are not applicable for analysis\n",
    "parameter_to_delete=['EV sales share', 'EV stock share','EV stock','Oil displacement, million lge','Oil displacement Mbd','EV charging points','Electricity demand']\n",
    "df=df.loc[~df['parameter'].isin(parameter_to_delete)]\n",
    "\n",
    "#Deleting categories which are not applicable for analysis\n",
    "category_to_delete=['Projection-STEPS','Projection-APS']\n",
    "df=df.loc[~df['category'].isin(category_to_delete)]\n",
    "print(df)"
   ]
  },
  {
   "cell_type": "code",
   "execution_count": 107,
   "id": "c99fba32",
   "metadata": {},
   "outputs": [
    {
     "data": {
      "text/html": [
       "<div>\n",
       "<style scoped>\n",
       "    .dataframe tbody tr th:only-of-type {\n",
       "        vertical-align: middle;\n",
       "    }\n",
       "\n",
       "    .dataframe tbody tr th {\n",
       "        vertical-align: top;\n",
       "    }\n",
       "\n",
       "    .dataframe thead th {\n",
       "        text-align: right;\n",
       "    }\n",
       "</style>\n",
       "<table border=\"1\" class=\"dataframe\">\n",
       "  <thead>\n",
       "    <tr style=\"text-align: right;\">\n",
       "      <th></th>\n",
       "      <th>year</th>\n",
       "      <th>value</th>\n",
       "    </tr>\n",
       "  </thead>\n",
       "  <tbody>\n",
       "    <tr>\n",
       "      <th>0</th>\n",
       "      <td>2013</td>\n",
       "      <td>5.535577e+05</td>\n",
       "    </tr>\n",
       "    <tr>\n",
       "      <th>1</th>\n",
       "      <td>2014</td>\n",
       "      <td>8.680802e+05</td>\n",
       "    </tr>\n",
       "    <tr>\n",
       "      <th>2</th>\n",
       "      <td>2015</td>\n",
       "      <td>1.633905e+06</td>\n",
       "    </tr>\n",
       "    <tr>\n",
       "      <th>3</th>\n",
       "      <td>2016</td>\n",
       "      <td>2.186306e+06</td>\n",
       "    </tr>\n",
       "    <tr>\n",
       "      <th>4</th>\n",
       "      <td>2017</td>\n",
       "      <td>3.351445e+06</td>\n",
       "    </tr>\n",
       "    <tr>\n",
       "      <th>5</th>\n",
       "      <td>2018</td>\n",
       "      <td>5.192548e+06</td>\n",
       "    </tr>\n",
       "    <tr>\n",
       "      <th>6</th>\n",
       "      <td>2019</td>\n",
       "      <td>5.557852e+06</td>\n",
       "    </tr>\n",
       "    <tr>\n",
       "      <th>7</th>\n",
       "      <td>2020</td>\n",
       "      <td>8.834555e+06</td>\n",
       "    </tr>\n",
       "    <tr>\n",
       "      <th>8</th>\n",
       "      <td>2021</td>\n",
       "      <td>1.783948e+07</td>\n",
       "    </tr>\n",
       "    <tr>\n",
       "      <th>9</th>\n",
       "      <td>2022</td>\n",
       "      <td>2.618958e+07</td>\n",
       "    </tr>\n",
       "    <tr>\n",
       "      <th>10</th>\n",
       "      <td>2023</td>\n",
       "      <td>3.457247e+07</td>\n",
       "    </tr>\n",
       "  </tbody>\n",
       "</table>\n",
       "</div>"
      ],
      "text/plain": [
       "    year         value\n",
       "0   2013  5.535577e+05\n",
       "1   2014  8.680802e+05\n",
       "2   2015  1.633905e+06\n",
       "3   2016  2.186306e+06\n",
       "4   2017  3.351445e+06\n",
       "5   2018  5.192548e+06\n",
       "6   2019  5.557852e+06\n",
       "7   2020  8.834555e+06\n",
       "8   2021  1.783948e+07\n",
       "9   2022  2.618958e+07\n",
       "10  2023  3.457247e+07"
      ]
     },
     "execution_count": 107,
     "metadata": {},
     "output_type": "execute_result"
    }
   ],
   "source": [
    "df = df.groupby('year')['value'].sum().reset_index()\n",
    "df"
   ]
  },
  {
   "cell_type": "code",
   "execution_count": 108,
   "id": "d956b7af",
   "metadata": {},
   "outputs": [],
   "source": [
    "# Extract features (year) and target (value)\n",
    "X = df[['year']]\n",
    "y = df['value']"
   ]
  },
  {
   "cell_type": "code",
   "execution_count": 109,
   "id": "c6fb392f",
   "metadata": {},
   "outputs": [],
   "source": [
    "linearRegression = LinearRegression()\n",
    "lr=linearRegression.fit(X,y)"
   ]
  },
  {
   "cell_type": "code",
   "execution_count": 110,
   "id": "33aa6404",
   "metadata": {},
   "outputs": [
    {
     "name": "stderr",
     "output_type": "stream",
     "text": [
      "c:\\Users\\ryank\\anaconda_recent\\Lib\\site-packages\\sklearn\\base.py:464: UserWarning: X does not have valid feature names, but LinearRegression was fitted with feature names\n",
      "  warnings.warn(\n",
      "c:\\Users\\ryank\\anaconda_recent\\Lib\\site-packages\\sklearn\\base.py:464: UserWarning: X does not have valid feature names, but LinearRegression was fitted with feature names\n",
      "  warnings.warn(\n",
      "c:\\Users\\ryank\\anaconda_recent\\Lib\\site-packages\\sklearn\\base.py:464: UserWarning: X does not have valid feature names, but LinearRegression was fitted with feature names\n",
      "  warnings.warn(\n",
      "c:\\Users\\ryank\\anaconda_recent\\Lib\\site-packages\\sklearn\\base.py:464: UserWarning: X does not have valid feature names, but LinearRegression was fitted with feature names\n",
      "  warnings.warn(\n",
      "c:\\Users\\ryank\\anaconda_recent\\Lib\\site-packages\\sklearn\\base.py:464: UserWarning: X does not have valid feature names, but LinearRegression was fitted with feature names\n",
      "  warnings.warn(\n"
     ]
    },
    {
     "data": {
      "text/html": [
       "<div>\n",
       "<style scoped>\n",
       "    .dataframe tbody tr th:only-of-type {\n",
       "        vertical-align: middle;\n",
       "    }\n",
       "\n",
       "    .dataframe tbody tr th {\n",
       "        vertical-align: top;\n",
       "    }\n",
       "\n",
       "    .dataframe thead th {\n",
       "        text-align: right;\n",
       "    }\n",
       "</style>\n",
       "<table border=\"1\" class=\"dataframe\">\n",
       "  <thead>\n",
       "    <tr style=\"text-align: right;\">\n",
       "      <th></th>\n",
       "      <th>year</th>\n",
       "      <th>value</th>\n",
       "    </tr>\n",
       "  </thead>\n",
       "  <tbody>\n",
       "    <tr>\n",
       "      <th>0</th>\n",
       "      <td>2024</td>\n",
       "      <td>2.800726e+07</td>\n",
       "    </tr>\n",
       "    <tr>\n",
       "      <th>1</th>\n",
       "      <td>2025</td>\n",
       "      <td>3.105726e+07</td>\n",
       "    </tr>\n",
       "    <tr>\n",
       "      <th>2</th>\n",
       "      <td>2026</td>\n",
       "      <td>3.410726e+07</td>\n",
       "    </tr>\n",
       "    <tr>\n",
       "      <th>3</th>\n",
       "      <td>2027</td>\n",
       "      <td>3.715727e+07</td>\n",
       "    </tr>\n",
       "    <tr>\n",
       "      <th>4</th>\n",
       "      <td>2028</td>\n",
       "      <td>4.020727e+07</td>\n",
       "    </tr>\n",
       "  </tbody>\n",
       "</table>\n",
       "</div>"
      ],
      "text/plain": [
       "   year         value\n",
       "0  2024  2.800726e+07\n",
       "1  2025  3.105726e+07\n",
       "2  2026  3.410726e+07\n",
       "3  2027  3.715727e+07\n",
       "4  2028  4.020727e+07"
      ]
     },
     "execution_count": 110,
     "metadata": {},
     "output_type": "execute_result"
    }
   ],
   "source": [
    "# Make predictions for the next 5 years\n",
    "forecast_years = 5\n",
    "forecast = []\n",
    "# Predict for the next 5 years\n",
    "for year in range(2024, 2024 + forecast_years):\n",
    "    prediction = linearRegression.predict(np.array([[year]]))\n",
    "    forecast.append(prediction[0])\n",
    "\n",
    "# Create a DataFrame for the forecasted years\n",
    "forecast_df = pd.DataFrame({'year': range(2024, 2024 + forecast_years), 'value': forecast})\n",
    "forecast_df"
   ]
  },
  {
   "cell_type": "code",
   "execution_count": 111,
   "id": "f4b68835",
   "metadata": {},
   "outputs": [
    {
     "data": {
      "image/png": "[encoded data removed]",
      "text/plain": [
       "<Figure size 1200x600 with 1 Axes>"
      ]
     },
     "metadata": {},
     "output_type": "display_data"
    }
   ],
   "source": [
    "# Plot the actual vs. forecasted values\n",
    "plt.figure(figsize=(12, 6))\n",
    "plt.plot(df['year'], df['value'], label='Actual', marker='o')\n",
    "plt.plot(forecast_df['year'], forecast_df['value'], label='Forecast', marker='x')\n",
    "plt.xlabel('Year')\n",
    "plt.ylabel('Value')\n",
    "plt.title('Sales Forecast for the Next 5 Years')\n",
    "plt.legend()\n",
    "plt.show()"
   ]
  },
  {
   "cell_type": "code",
   "execution_count": 112,
   "id": "515c94f9",
   "metadata": {},
   "outputs": [
    {
     "name": "stdout",
     "output_type": "stream",
     "text": [
      "Mean Absolute Error: 4442060.41180982\n",
      "Mean Squared Error: 26838699856801.39\n",
      "Root Mean Squared Error: 5180608.058597117\n",
      "R-Squared: 0.7760900208337502\n"
     ]
    }
   ],
   "source": [
    "y_pred = lr.predict(X)\n",
    "mae = mean_absolute_error(y, y_pred)\n",
    "print(\"Mean Absolute Error:\", mae)\n",
    "\n",
    "mse = mean_squared_error(y, y_pred)\n",
    "print(\"Mean Squared Error:\", mse)\n",
    "\n",
    "rmse = np.sqrt(mse)\n",
    "print(\"Root Mean Squared Error:\", rmse)\n",
    "\n",
    "r2=r2_score(y,y_pred)\n",
    "print(\"R-Squared:\", r2)"
   ]
  },
  {
   "cell_type": "code",
   "execution_count": 113,
   "id": "f86510c6",
   "metadata": {},
   "outputs": [
    {
     "name": "stdout",
     "output_type": "stream",
     "text": [
      "    year         value  EV Sales YOY\n",
      "0   2013  5.535577e+05           NaN\n",
      "1   2014  8.680802e+05     56.818377\n",
      "2   2015  1.633905e+06     88.220512\n",
      "3   2016  2.186306e+06     33.808636\n",
      "4   2017  3.351445e+06     53.292586\n",
      "5   2018  5.192548e+06     54.934603\n",
      "6   2019  5.557852e+06      7.035159\n",
      "7   2020  8.834555e+06     58.956284\n",
      "8   2021  1.783948e+07    101.928450\n",
      "9   2022  2.618958e+07     46.806852\n",
      "10  2023  3.457247e+07     32.008487\n",
      "11  2024  2.800726e+07    -18.989693\n",
      "12  2025  3.105726e+07     10.890038\n",
      "13  2026  3.410726e+07      9.820574\n",
      "14  2027  3.715727e+07      8.942381\n",
      "15  2028  4.020727e+07      8.208358\n"
     ]
    }
   ],
   "source": [
    "# Append forecast_df to df and create a YOY calculation\n",
    "\n",
    "real_and_forecast_sales = pd.concat([df, forecast_df], ignore_index=True)\n",
    "\n",
    "real_and_forecast_sales['EV Sales YOY'] = real_and_forecast_sales['value'].pct_change(periods=1) * 100\n",
    "\n",
    "# Print the DataFrame with YOY column\n",
    "print(real_and_forecast_sales)"
   ]
  },
  {
   "cell_type": "markdown",
   "id": "36503a36",
   "metadata": {},
   "source": [
    "Creating a Similar Analysis for Electricity Demand, Stock, and Oil Displacement"
   ]
  },
  {
   "cell_type": "code",
   "execution_count": 114,
   "id": "080cb795",
   "metadata": {},
   "outputs": [
    {
     "name": "stdout",
     "output_type": "stream",
     "text": [
      "       region    category parameter  mode powertrain  year      unit   value\n",
      "11  Australia  Historical  EV stock  Cars       PHEV  2013  Vehicles   180.0\n",
      "15  Australia  Historical  EV stock  Cars        BEV  2013  Vehicles   410.0\n",
      "16  Australia  Historical  EV stock  Cars        BEV  2014  Vehicles   780.0\n",
      "20  Australia  Historical  EV stock  Cars       PHEV  2014  Vehicles  1100.0\n",
      "23  Australia  Historical  EV stock  Cars       PHEV  2015  Vehicles  2100.0\n"
     ]
    }
   ],
   "source": [
    "\n",
    "year_to_delete=[2010,2011,2012,2025,2030]\n",
    "new_df=data.loc[~data['year'].isin(year_to_delete)]\n",
    "\n",
    "#Keeping only parameters which are applicable for analysis\n",
    "parameter_to_keep=['EV stock','Oil displacement, million lge','Electricity demand']\n",
    "new_df=new_df.loc[new_df['parameter'].isin(parameter_to_keep)]\n",
    "\n",
    "#Deleting categories which are not applicable for analysis\n",
    "category_to_delete=['Projection-STEPS','Projection-APS']\n",
    "new_df=new_df.loc[~new_df['category'].isin(category_to_delete)]\n",
    "\n",
    "print(new_df.head())\n"
   ]
  },
  {
   "cell_type": "code",
   "execution_count": 116,
   "id": "5cc5e11b",
   "metadata": {},
   "outputs": [
    {
     "name": "stdout",
     "output_type": "stream",
     "text": [
      "Forecasted Values:\n",
      "    year         value                      parameter\n",
      "0   2024  8.050036e+07                       EV stock\n",
      "1   2025  8.931776e+07                       EV stock\n",
      "2   2026  9.813516e+07                       EV stock\n",
      "3   2027  1.069526e+08                       EV stock\n",
      "4   2028  1.157699e+08                       EV stock\n",
      "5   2024  7.077441e+04  Oil displacement, million lge\n",
      "6   2025  7.842704e+04  Oil displacement, million lge\n",
      "7   2026  8.607968e+04  Oil displacement, million lge\n",
      "8   2027  9.373232e+04  Oil displacement, million lge\n",
      "9   2028  1.013850e+05  Oil displacement, million lge\n",
      "10  2024  1.933354e+05             Electricity demand\n",
      "11  2025  2.124309e+05             Electricity demand\n",
      "12  2026  2.315264e+05             Electricity demand\n",
      "13  2027  2.506218e+05             Electricity demand\n",
      "14  2028  2.697173e+05             Electricity demand\n",
      "\n",
      "Metrics:\n",
      "                       parameter           MAE           MSE          RMSE  \\\n",
      "0                       EV stock  1.267101e+07  2.257151e+14  1.502382e+07   \n",
      "1  Oil displacement, million lge  1.088462e+04  1.978212e+08  1.406489e+04   \n",
      "2             Electricity demand  1.920714e+04  7.608050e+08  2.758269e+04   \n",
      "\n",
      "   R-Squared  \n",
      "0   0.775000  \n",
      "1   0.747500  \n",
      "2   0.827372  \n"
     ]
    },
    {
     "name": "stderr",
     "output_type": "stream",
     "text": [
      "c:\\Users\\ryank\\anaconda_recent\\Lib\\site-packages\\sklearn\\base.py:464: UserWarning: X does not have valid feature names, but LinearRegression was fitted with feature names\n",
      "  warnings.warn(\n",
      "c:\\Users\\ryank\\anaconda_recent\\Lib\\site-packages\\sklearn\\base.py:464: UserWarning: X does not have valid feature names, but LinearRegression was fitted with feature names\n",
      "  warnings.warn(\n",
      "c:\\Users\\ryank\\anaconda_recent\\Lib\\site-packages\\sklearn\\base.py:464: UserWarning: X does not have valid feature names, but LinearRegression was fitted with feature names\n",
      "  warnings.warn(\n",
      "c:\\Users\\ryank\\anaconda_recent\\Lib\\site-packages\\sklearn\\base.py:464: UserWarning: X does not have valid feature names, but LinearRegression was fitted with feature names\n",
      "  warnings.warn(\n",
      "c:\\Users\\ryank\\anaconda_recent\\Lib\\site-packages\\sklearn\\base.py:464: UserWarning: X does not have valid feature names, but LinearRegression was fitted with feature names\n",
      "  warnings.warn(\n",
      "c:\\Users\\ryank\\anaconda_recent\\Lib\\site-packages\\sklearn\\base.py:464: UserWarning: X does not have valid feature names, but LinearRegression was fitted with feature names\n",
      "  warnings.warn(\n",
      "c:\\Users\\ryank\\anaconda_recent\\Lib\\site-packages\\sklearn\\base.py:464: UserWarning: X does not have valid feature names, but LinearRegression was fitted with feature names\n",
      "  warnings.warn(\n",
      "c:\\Users\\ryank\\anaconda_recent\\Lib\\site-packages\\sklearn\\base.py:464: UserWarning: X does not have valid feature names, but LinearRegression was fitted with feature names\n",
      "  warnings.warn(\n",
      "c:\\Users\\ryank\\anaconda_recent\\Lib\\site-packages\\sklearn\\base.py:464: UserWarning: X does not have valid feature names, but LinearRegression was fitted with feature names\n",
      "  warnings.warn(\n",
      "c:\\Users\\ryank\\anaconda_recent\\Lib\\site-packages\\sklearn\\base.py:464: UserWarning: X does not have valid feature names, but LinearRegression was fitted with feature names\n",
      "  warnings.warn(\n",
      "c:\\Users\\ryank\\anaconda_recent\\Lib\\site-packages\\sklearn\\base.py:464: UserWarning: X does not have valid feature names, but LinearRegression was fitted with feature names\n",
      "  warnings.warn(\n",
      "c:\\Users\\ryank\\anaconda_recent\\Lib\\site-packages\\sklearn\\base.py:464: UserWarning: X does not have valid feature names, but LinearRegression was fitted with feature names\n",
      "  warnings.warn(\n",
      "c:\\Users\\ryank\\anaconda_recent\\Lib\\site-packages\\sklearn\\base.py:464: UserWarning: X does not have valid feature names, but LinearRegression was fitted with feature names\n",
      "  warnings.warn(\n",
      "c:\\Users\\ryank\\anaconda_recent\\Lib\\site-packages\\sklearn\\base.py:464: UserWarning: X does not have valid feature names, but LinearRegression was fitted with feature names\n",
      "  warnings.warn(\n",
      "c:\\Users\\ryank\\anaconda_recent\\Lib\\site-packages\\sklearn\\base.py:464: UserWarning: X does not have valid feature names, but LinearRegression was fitted with feature names\n",
      "  warnings.warn(\n"
     ]
    }
   ],
   "source": [
    "# Group by 'year' and 'parameter' and sum the 'value' column\n",
    "grouped_df = new_df.groupby(['year', 'parameter'])['value'].sum().reset_index()\n",
    "\n",
    "# Initialize an empty DataFrame to store the forecasts and metrics\n",
    "forecast_dfs = []\n",
    "metrics_dfs = []\n",
    "\n",
    "# Perform forecasting and calculate metrics for each parameter separately\n",
    "for parameter in ['EV stock','Oil displacement, million lge','Electricity demand']:\n",
    "    # Filter data for the current parameter\n",
    "    parameter_df = grouped_df[grouped_df['parameter'] == parameter]\n",
    "    \n",
    "    # Prepare X (year) and y (value) for linear regression\n",
    "    X = parameter_df[['year']]\n",
    "    y = parameter_df['value']\n",
    "    \n",
    "    # Initialize and fit linear regression model\n",
    "    linearRegression = LinearRegression()\n",
    "    lr = linearRegression.fit(X, y)\n",
    "    \n",
    "    # Make predictions for the next 5 years\n",
    "    forecast_years = 5\n",
    "    forecast = []\n",
    "    for year in range(2024, 2024 + forecast_years):\n",
    "        prediction = linearRegression.predict(np.array([[year]]))\n",
    "        forecast.append(prediction[0])\n",
    "    \n",
    "    # Calculate metrics\n",
    "    y_pred = lr.predict(X)\n",
    "    mae = mean_absolute_error(y, y_pred)\n",
    "    mse = mean_squared_error(y, y_pred)\n",
    "    rmse = np.sqrt(mse)\n",
    "    r2 = r2_score(y, y_pred)\n",
    "    \n",
    "    # Create DataFrames for forecast and metrics\n",
    "    forecast_df = pd.DataFrame({'year': range(2024, 2024 + forecast_years), 'value': forecast, 'parameter': parameter})\n",
    "    metrics_df = pd.DataFrame({'parameter': [parameter], 'MAE': [mae], 'MSE': [mse], 'RMSE': [rmse], 'R-Squared': [r2]})\n",
    "    \n",
    "    # Append the forecast DataFrame to the list of forecasts\n",
    "    forecast_dfs.append(forecast_df)\n",
    "    metrics_dfs.append(metrics_df)\n",
    "\n",
    "# Concatenate all forecast DataFrames into a single DataFrame\n",
    "forecast_df = pd.concat(forecast_dfs, ignore_index=True)\n",
    "\n",
    "# Concatenate all metrics DataFrames into a single DataFrame\n",
    "metrics_df = pd.concat(metrics_dfs, ignore_index=True)\n",
    "\n",
    "# Print or further manipulate forecast_df and metrics_df as needed\n",
    "print(\"Forecasted Values:\")\n",
    "print(forecast_df)\n",
    "print(\"\\nMetrics:\")\n",
    "print(metrics_df)\n",
    "\n"
   ]
  }
 ],
 "metadata": {
  "kernelspec": {
   "display_name": "Python 3 (ipykernel)",
   "language": "python",
   "name": "python3"
  },
  "language_info": {
   "codemirror_mode": {
    "name": "ipython",
    "version": 3
   },
   "file_extension": ".py",
   "mimetype": "text/x-python",
   "name": "python",
   "nbconvert_exporter": "python",
   "pygments_lexer": "ipython3",
   "version": "3.11.5"
  }
 },
 "nbformat": 4,
 "nbformat_minor": 5
}
